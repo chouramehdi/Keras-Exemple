{
  "nbformat": 4,
  "nbformat_minor": 0,
  "metadata": {
    "kernelspec": {
      "display_name": "Python 3",
      "language": "python",
      "name": "python3"
    },
    "language_info": {
      "codemirror_mode": {
        "name": "ipython",
        "version": 3
      },
      "file_extension": ".py",
      "mimetype": "text/x-python",
      "name": "python",
      "nbconvert_exporter": "python",
      "pygments_lexer": "ipython3",
      "version": "3.6.5"
    },
    "colab": {
      "name": "Keras Exemple.ipynb",
      "provenance": [],
      "collapsed_sections": []
    }
  },
  "cells": [
    {
      "cell_type": "markdown",
      "metadata": {
        "id": "2MZ5SMs16N02",
        "colab_type": "text"
      },
      "source": [
        "**Importing libreries**"
      ]
    },
    {
      "cell_type": "code",
      "metadata": {
        "id": "erc2jfhJuOmo",
        "colab_type": "code",
        "outputId": "25d198c5-3338-434b-e661-19b0984f479f",
        "colab": {
          "base_uri": "https://localhost:8080/",
          "height": 79
        }
      },
      "source": [
        "import pandas as pd\n",
        "from keras.models import Sequential\n",
        "from keras.layers import Dense\n",
        "from keras.callbacks import EarlyStopping\n",
        "from keras.utils import to_categorical"
      ],
      "execution_count": 1,
      "outputs": [
        {
          "output_type": "stream",
          "text": [
            "Using TensorFlow backend.\n"
          ],
          "name": "stderr"
        },
        {
          "output_type": "display_data",
          "data": {
            "text/html": [
              "<p style=\"color: red;\">\n",
              "The default version of TensorFlow in Colab will soon switch to TensorFlow 2.x.<br>\n",
              "We recommend you <a href=\"https://www.tensorflow.org/guide/migrate\" target=\"_blank\">upgrade</a> now \n",
              "or ensure your notebook will continue to use TensorFlow 1.x via the <code>%tensorflow_version 1.x</code> magic:\n",
              "<a href=\"https://colab.research.google.com/notebooks/tensorflow_version.ipynb\" target=\"_blank\">more info</a>.</p>\n"
            ],
            "text/plain": [
              "<IPython.core.display.HTML object>"
            ]
          },
          "metadata": {
            "tags": []
          }
        }
      ]
    },
    {
      "cell_type": "markdown",
      "metadata": {
        "id": "rOYVMVPU6iZ2",
        "colab_type": "text"
      },
      "source": [
        "**Reading data**"
      ]
    },
    {
      "cell_type": "code",
      "metadata": {
        "id": "i25U9UXXuOnF",
        "colab_type": "code",
        "outputId": "1caae064-ef00-4365-8cf6-c806a8521c81",
        "colab": {
          "base_uri": "https://localhost:8080/",
          "height": 195
        }
      },
      "source": [
        "#read in training data\n",
        "train_df = pd.read_csv('diabetes_data.csv')\n",
        "\n",
        "#view data structure\n",
        "train_df.head()"
      ],
      "execution_count": 3,
      "outputs": [
        {
          "output_type": "execute_result",
          "data": {
            "text/html": [
              "<div>\n",
              "<style scoped>\n",
              "    .dataframe tbody tr th:only-of-type {\n",
              "        vertical-align: middle;\n",
              "    }\n",
              "\n",
              "    .dataframe tbody tr th {\n",
              "        vertical-align: top;\n",
              "    }\n",
              "\n",
              "    .dataframe thead th {\n",
              "        text-align: right;\n",
              "    }\n",
              "</style>\n",
              "<table border=\"1\" class=\"dataframe\">\n",
              "  <thead>\n",
              "    <tr style=\"text-align: right;\">\n",
              "      <th></th>\n",
              "      <th>pregnancies</th>\n",
              "      <th>glucose</th>\n",
              "      <th>diastolic</th>\n",
              "      <th>triceps</th>\n",
              "      <th>insulin</th>\n",
              "      <th>bmi</th>\n",
              "      <th>dpf</th>\n",
              "      <th>age</th>\n",
              "      <th>diabetes</th>\n",
              "    </tr>\n",
              "  </thead>\n",
              "  <tbody>\n",
              "    <tr>\n",
              "      <th>0</th>\n",
              "      <td>6</td>\n",
              "      <td>148</td>\n",
              "      <td>72</td>\n",
              "      <td>35</td>\n",
              "      <td>0</td>\n",
              "      <td>33.6</td>\n",
              "      <td>0.627</td>\n",
              "      <td>50</td>\n",
              "      <td>1</td>\n",
              "    </tr>\n",
              "    <tr>\n",
              "      <th>1</th>\n",
              "      <td>1</td>\n",
              "      <td>85</td>\n",
              "      <td>66</td>\n",
              "      <td>29</td>\n",
              "      <td>0</td>\n",
              "      <td>26.6</td>\n",
              "      <td>0.351</td>\n",
              "      <td>31</td>\n",
              "      <td>0</td>\n",
              "    </tr>\n",
              "    <tr>\n",
              "      <th>2</th>\n",
              "      <td>8</td>\n",
              "      <td>183</td>\n",
              "      <td>64</td>\n",
              "      <td>0</td>\n",
              "      <td>0</td>\n",
              "      <td>23.3</td>\n",
              "      <td>0.672</td>\n",
              "      <td>32</td>\n",
              "      <td>1</td>\n",
              "    </tr>\n",
              "    <tr>\n",
              "      <th>3</th>\n",
              "      <td>1</td>\n",
              "      <td>89</td>\n",
              "      <td>66</td>\n",
              "      <td>23</td>\n",
              "      <td>94</td>\n",
              "      <td>28.1</td>\n",
              "      <td>0.167</td>\n",
              "      <td>21</td>\n",
              "      <td>0</td>\n",
              "    </tr>\n",
              "    <tr>\n",
              "      <th>4</th>\n",
              "      <td>0</td>\n",
              "      <td>137</td>\n",
              "      <td>40</td>\n",
              "      <td>35</td>\n",
              "      <td>168</td>\n",
              "      <td>43.1</td>\n",
              "      <td>2.288</td>\n",
              "      <td>33</td>\n",
              "      <td>1</td>\n",
              "    </tr>\n",
              "  </tbody>\n",
              "</table>\n",
              "</div>"
            ],
            "text/plain": [
              "   pregnancies  glucose  diastolic  triceps  ...   bmi    dpf  age  diabetes\n",
              "0            6      148         72       35  ...  33.6  0.627   50         1\n",
              "1            1       85         66       29  ...  26.6  0.351   31         0\n",
              "2            8      183         64        0  ...  23.3  0.672   32         1\n",
              "3            1       89         66       23  ...  28.1  0.167   21         0\n",
              "4            0      137         40       35  ...  43.1  2.288   33         1\n",
              "\n",
              "[5 rows x 9 columns]"
            ]
          },
          "metadata": {
            "tags": []
          },
          "execution_count": 3
        }
      ]
    },
    {
      "cell_type": "code",
      "metadata": {
        "id": "wgi132LYuOnP",
        "colab_type": "code",
        "outputId": "26ab6377-aabe-4f8c-9ffa-9dbe9079d756",
        "colab": {
          "base_uri": "https://localhost:8080/",
          "height": 118
        }
      },
      "source": [
        "#create a dataframe with all training data except the target column\n",
        "train_X = train_df.drop(columns=['diabetes'])\n",
        "\n",
        "#check that the target variable has been removed\n",
        "train_X.head()\n",
        "predict = train_X.head(5)\n",
        "print(predict)"
      ],
      "execution_count": 4,
      "outputs": [
        {
          "output_type": "stream",
          "text": [
            "   pregnancies  glucose  diastolic  triceps  insulin   bmi    dpf  age\n",
            "0            6      148         72       35        0  33.6  0.627   50\n",
            "1            1       85         66       29        0  26.6  0.351   31\n",
            "2            8      183         64        0        0  23.3  0.672   32\n",
            "3            1       89         66       23       94  28.1  0.167   21\n",
            "4            0      137         40       35      168  43.1  2.288   33\n"
          ],
          "name": "stdout"
        }
      ]
    },
    {
      "cell_type": "code",
      "metadata": {
        "id": "2xHxWKzhuOnX",
        "colab_type": "code",
        "outputId": "d9a3fd98-4b9d-4572-bebf-8de0627896b2",
        "colab": {
          "base_uri": "https://localhost:8080/",
          "height": 118
        }
      },
      "source": [
        "#one-hot encode target column\n",
        "train_y = to_categorical(train_df.diabetes)\n",
        "\n",
        "#vcheck that target column has been converted\n",
        "train_y[0:6]"
      ],
      "execution_count": 5,
      "outputs": [
        {
          "output_type": "execute_result",
          "data": {
            "text/plain": [
              "array([[0., 1.],\n",
              "       [1., 0.],\n",
              "       [0., 1.],\n",
              "       [1., 0.],\n",
              "       [0., 1.],\n",
              "       [1., 0.]], dtype=float32)"
            ]
          },
          "metadata": {
            "tags": []
          },
          "execution_count": 5
        }
      ]
    },
    {
      "cell_type": "markdown",
      "metadata": {
        "id": "n5-6tWql9cAu",
        "colab_type": "text"
      },
      "source": [
        "**Creating the model**"
      ]
    },
    {
      "cell_type": "code",
      "metadata": {
        "id": "bHfaitSZuOng",
        "colab_type": "code",
        "outputId": "a86f200e-db13-4f6f-db54-5e6ca021628c",
        "colab": {
          "base_uri": "https://localhost:8080/",
          "height": 222
        }
      },
      "source": [
        "import numpy as np\n",
        "#create model\n",
        "model = Sequential()\n",
        "\n",
        "#get number of columns in training data\n",
        "n_cols = train_X.shape[1]\n",
        "print(n_cols)\n",
        "\n",
        "#add layers to model\n",
        "model.add(Dense(250, activation='relu', input_shape=(n_cols,)))\n",
        "model.add(Dense(250, activation='relu'))\n",
        "model.add(Dense(250, activation='relu'))\n",
        "model.add(Dense(250, activation='relu'))\n",
        "model.add(Dense(250, activation='relu'))\n",
        "model.add(Dense(250, activation='relu'))\n",
        "model.add(Dense(2, activation='softmax'))\n",
        "\n",
        "#compile model using accuracy to measure model performance\n",
        "model.compile(optimizer='adam', loss='categorical_crossentropy', metrics=['accuracy'])\n",
        "x=(train_X[:614])\n",
        "y=(train_y[:614])\n",
        "x_valid = (train_X[-172:])\n",
        "y_valid=(train_y[-172:])\n",
        "\n"
      ],
      "execution_count": 6,
      "outputs": [
        {
          "output_type": "stream",
          "text": [
            "WARNING:tensorflow:From /usr/local/lib/python3.6/dist-packages/keras/backend/tensorflow_backend.py:66: The name tf.get_default_graph is deprecated. Please use tf.compat.v1.get_default_graph instead.\n",
            "\n",
            "8\n",
            "WARNING:tensorflow:From /usr/local/lib/python3.6/dist-packages/keras/backend/tensorflow_backend.py:541: The name tf.placeholder is deprecated. Please use tf.compat.v1.placeholder instead.\n",
            "\n",
            "WARNING:tensorflow:From /usr/local/lib/python3.6/dist-packages/keras/backend/tensorflow_backend.py:4432: The name tf.random_uniform is deprecated. Please use tf.random.uniform instead.\n",
            "\n",
            "WARNING:tensorflow:From /usr/local/lib/python3.6/dist-packages/keras/optimizers.py:793: The name tf.train.Optimizer is deprecated. Please use tf.compat.v1.train.Optimizer instead.\n",
            "\n",
            "WARNING:tensorflow:From /usr/local/lib/python3.6/dist-packages/keras/backend/tensorflow_backend.py:3576: The name tf.log is deprecated. Please use tf.math.log instead.\n",
            "\n"
          ],
          "name": "stdout"
        }
      ]
    },
    {
      "cell_type": "markdown",
      "metadata": {
        "id": "pwdIp5jo9T91",
        "colab_type": "text"
      },
      "source": [
        "**Train the model **"
      ]
    },
    {
      "cell_type": "code",
      "metadata": {
        "id": "vv7fS9djuOnp",
        "colab_type": "code",
        "outputId": "af44eae4-6529-4b2d-b023-80c7dd984017",
        "colab": {
          "base_uri": "https://localhost:8080/",
          "height": 1000
        }
      },
      "source": [
        "#train model\n",
        "history=model.fit(x, y,\n",
        "          batch_size=32, epochs=30, shuffle=False,\n",
        "          validation_data=(x_valid, y_valid))"
      ],
      "execution_count": 7,
      "outputs": [
        {
          "output_type": "stream",
          "text": [
            "WARNING:tensorflow:From /usr/local/lib/python3.6/dist-packages/tensorflow_core/python/ops/math_grad.py:1424: where (from tensorflow.python.ops.array_ops) is deprecated and will be removed in a future version.\n",
            "Instructions for updating:\n",
            "Use tf.where in 2.0, which has the same broadcast rule as np.where\n",
            "WARNING:tensorflow:From /usr/local/lib/python3.6/dist-packages/keras/backend/tensorflow_backend.py:1033: The name tf.assign_add is deprecated. Please use tf.compat.v1.assign_add instead.\n",
            "\n",
            "WARNING:tensorflow:From /usr/local/lib/python3.6/dist-packages/keras/backend/tensorflow_backend.py:1020: The name tf.assign is deprecated. Please use tf.compat.v1.assign instead.\n",
            "\n",
            "WARNING:tensorflow:From /usr/local/lib/python3.6/dist-packages/keras/backend/tensorflow_backend.py:3005: The name tf.Session is deprecated. Please use tf.compat.v1.Session instead.\n",
            "\n",
            "Train on 614 samples, validate on 172 samples\n",
            "Epoch 1/30\n",
            "WARNING:tensorflow:From /usr/local/lib/python3.6/dist-packages/keras/backend/tensorflow_backend.py:190: The name tf.get_default_session is deprecated. Please use tf.compat.v1.get_default_session instead.\n",
            "\n",
            "WARNING:tensorflow:From /usr/local/lib/python3.6/dist-packages/keras/backend/tensorflow_backend.py:197: The name tf.ConfigProto is deprecated. Please use tf.compat.v1.ConfigProto instead.\n",
            "\n",
            "WARNING:tensorflow:From /usr/local/lib/python3.6/dist-packages/keras/backend/tensorflow_backend.py:207: The name tf.global_variables is deprecated. Please use tf.compat.v1.global_variables instead.\n",
            "\n",
            "WARNING:tensorflow:From /usr/local/lib/python3.6/dist-packages/keras/backend/tensorflow_backend.py:216: The name tf.is_variable_initialized is deprecated. Please use tf.compat.v1.is_variable_initialized instead.\n",
            "\n",
            "WARNING:tensorflow:From /usr/local/lib/python3.6/dist-packages/keras/backend/tensorflow_backend.py:223: The name tf.variables_initializer is deprecated. Please use tf.compat.v1.variables_initializer instead.\n",
            "\n",
            "614/614 [==============================] - 1s 1ms/step - loss: 1.4718 - acc: 0.5440 - val_loss: 0.7810 - val_acc: 0.5698\n",
            "Epoch 2/30\n",
            "614/614 [==============================] - 0s 270us/step - loss: 0.7249 - acc: 0.6140 - val_loss: 0.8787 - val_acc: 0.6105\n",
            "Epoch 3/30\n",
            "614/614 [==============================] - 0s 307us/step - loss: 0.6664 - acc: 0.6661 - val_loss: 0.7459 - val_acc: 0.6163\n",
            "Epoch 4/30\n",
            "614/614 [==============================] - 0s 308us/step - loss: 0.6412 - acc: 0.6580 - val_loss: 0.6946 - val_acc: 0.6105\n",
            "Epoch 5/30\n",
            "614/614 [==============================] - 0s 319us/step - loss: 0.6290 - acc: 0.6596 - val_loss: 0.7794 - val_acc: 0.6628\n",
            "Epoch 6/30\n",
            "614/614 [==============================] - 0s 321us/step - loss: 0.6265 - acc: 0.6889 - val_loss: 0.6676 - val_acc: 0.6686\n",
            "Epoch 7/30\n",
            "614/614 [==============================] - 0s 351us/step - loss: 0.5943 - acc: 0.7003 - val_loss: 0.6592 - val_acc: 0.6744\n",
            "Epoch 8/30\n",
            "614/614 [==============================] - 0s 286us/step - loss: 0.5816 - acc: 0.7052 - val_loss: 0.6731 - val_acc: 0.6744\n",
            "Epoch 9/30\n",
            "614/614 [==============================] - 0s 318us/step - loss: 0.5817 - acc: 0.7003 - val_loss: 0.6641 - val_acc: 0.6860\n",
            "Epoch 10/30\n",
            "614/614 [==============================] - 0s 305us/step - loss: 0.5714 - acc: 0.7003 - val_loss: 0.6629 - val_acc: 0.6860\n",
            "Epoch 11/30\n",
            "614/614 [==============================] - 0s 296us/step - loss: 0.5668 - acc: 0.7036 - val_loss: 0.6253 - val_acc: 0.6744\n",
            "Epoch 12/30\n",
            "614/614 [==============================] - 0s 299us/step - loss: 0.5593 - acc: 0.7101 - val_loss: 0.6618 - val_acc: 0.7035\n",
            "Epoch 13/30\n",
            "614/614 [==============================] - 0s 281us/step - loss: 0.5643 - acc: 0.7020 - val_loss: 0.6294 - val_acc: 0.6802\n",
            "Epoch 14/30\n",
            "614/614 [==============================] - 0s 281us/step - loss: 0.5602 - acc: 0.7134 - val_loss: 0.7083 - val_acc: 0.6744\n",
            "Epoch 15/30\n",
            "614/614 [==============================] - 0s 335us/step - loss: 0.5655 - acc: 0.6987 - val_loss: 0.6238 - val_acc: 0.6802\n",
            "Epoch 16/30\n",
            "614/614 [==============================] - 0s 314us/step - loss: 0.5496 - acc: 0.7199 - val_loss: 0.6164 - val_acc: 0.6860\n",
            "Epoch 17/30\n",
            "614/614 [==============================] - 0s 312us/step - loss: 0.5360 - acc: 0.7231 - val_loss: 0.6595 - val_acc: 0.6802\n",
            "Epoch 18/30\n",
            "614/614 [==============================] - 0s 298us/step - loss: 0.5403 - acc: 0.7150 - val_loss: 0.6239 - val_acc: 0.6860\n",
            "Epoch 19/30\n",
            "614/614 [==============================] - 0s 298us/step - loss: 0.5246 - acc: 0.7264 - val_loss: 0.6607 - val_acc: 0.6744\n",
            "Epoch 20/30\n",
            "614/614 [==============================] - 0s 303us/step - loss: 0.5377 - acc: 0.7296 - val_loss: 0.6183 - val_acc: 0.6977\n",
            "Epoch 21/30\n",
            "614/614 [==============================] - 0s 341us/step - loss: 0.5243 - acc: 0.7248 - val_loss: 0.6470 - val_acc: 0.6744\n",
            "Epoch 22/30\n",
            "614/614 [==============================] - 0s 300us/step - loss: 0.5275 - acc: 0.7248 - val_loss: 0.6191 - val_acc: 0.6919\n",
            "Epoch 23/30\n",
            "614/614 [==============================] - 0s 315us/step - loss: 0.5206 - acc: 0.7362 - val_loss: 0.6609 - val_acc: 0.6686\n",
            "Epoch 24/30\n",
            "614/614 [==============================] - 0s 298us/step - loss: 0.5243 - acc: 0.7280 - val_loss: 0.6211 - val_acc: 0.7093\n",
            "Epoch 25/30\n",
            "614/614 [==============================] - 0s 295us/step - loss: 0.5056 - acc: 0.7427 - val_loss: 0.6616 - val_acc: 0.6860\n",
            "Epoch 26/30\n",
            "614/614 [==============================] - 0s 311us/step - loss: 0.5084 - acc: 0.7459 - val_loss: 0.6313 - val_acc: 0.7035\n",
            "Epoch 27/30\n",
            "614/614 [==============================] - 0s 296us/step - loss: 0.5098 - acc: 0.7459 - val_loss: 0.6691 - val_acc: 0.6919\n",
            "Epoch 28/30\n",
            "614/614 [==============================] - 0s 294us/step - loss: 0.5088 - acc: 0.7410 - val_loss: 0.5991 - val_acc: 0.7035\n",
            "Epoch 29/30\n",
            "614/614 [==============================] - 0s 305us/step - loss: 0.4971 - acc: 0.7622 - val_loss: 0.6797 - val_acc: 0.6860\n",
            "Epoch 30/30\n",
            "614/614 [==============================] - 0s 296us/step - loss: 0.5068 - acc: 0.7427 - val_loss: 0.7347 - val_acc: 0.6744\n"
          ],
          "name": "stdout"
        }
      ]
    },
    {
      "cell_type": "markdown",
      "metadata": {
        "id": "vuQo08YB9N5X",
        "colab_type": "text"
      },
      "source": [
        "**Evaluate the model**"
      ]
    },
    {
      "cell_type": "code",
      "metadata": {
        "id": "8cSM_qzAuOn5",
        "colab_type": "code",
        "outputId": "7a7e99eb-4cc7-4324-fc56-eb718f15445a",
        "colab": {
          "base_uri": "https://localhost:8080/",
          "height": 590
        }
      },
      "source": [
        "import matplotlib.pyplot as plt\n",
        "\n",
        "print(history.history.keys())\n",
        "# summarize history for accuracy\n",
        "plt.plot(history.history['acc'])\n",
        "plt.plot(history.history['val_acc'])\n",
        "plt.title('model accuracy')\n",
        "plt.ylabel('accuracy')\n",
        "plt.xlabel('epoch')\n",
        "plt.legend(['train', 'test'], loc='upper left')\n",
        "plt.show()\n",
        "# summarize history for loss\n",
        "plt.plot(history.history['loss'])\n",
        "plt.plot(history.history['val_loss'])\n",
        "plt.title('model loss')\n",
        "plt.ylabel('loss')\n",
        "plt.xlabel('epoch')\n",
        "plt.legend(['train', 'test'], loc='upper right')\n",
        "plt.show()"
      ],
      "execution_count": 8,
      "outputs": [
        {
          "output_type": "stream",
          "text": [
            "dict_keys(['val_loss', 'val_acc', 'loss', 'acc'])\n"
          ],
          "name": "stdout"
        },
        {
          "output_type": "display_data",
          "data": {
            "image/png": "[encoded data removed]",
            "text/plain": [
              "<Figure size 432x288 with 1 Axes>"
            ]
          },
          "metadata": {
            "tags": []
          }
        },
        {
          "output_type": "display_data",
          "data": {
            "image/png": "[encoded data removed]",
            "text/plain": [
              "<Figure size 432x288 with 1 Axes>"
            ]
          },
          "metadata": {
            "tags": []
          }
        }
      ]
    },
    {
      "cell_type": "markdown",
      "metadata": {
        "id": "peZJOMzg9EKo",
        "colab_type": "text"
      },
      "source": [
        "**Make a prediction**"
      ]
    },
    {
      "cell_type": "code",
      "metadata": {
        "id": "4iQ4_qYQvDeV",
        "colab_type": "code",
        "colab": {
          "base_uri": "https://localhost:8080/",
          "height": 195
        },
        "outputId": "a41a5186-732b-4950-e052-0b522d2646b0"
      },
      "source": [
        "predict = pd.read_csv('to_prediction.csv')\n",
        "predict.head()"
      ],
      "execution_count": 9,
      "outputs": [
        {
          "output_type": "execute_result",
          "data": {
            "text/html": [
              "<div>\n",
              "<style scoped>\n",
              "    .dataframe tbody tr th:only-of-type {\n",
              "        vertical-align: middle;\n",
              "    }\n",
              "\n",
              "    .dataframe tbody tr th {\n",
              "        vertical-align: top;\n",
              "    }\n",
              "\n",
              "    .dataframe thead th {\n",
              "        text-align: right;\n",
              "    }\n",
              "</style>\n",
              "<table border=\"1\" class=\"dataframe\">\n",
              "  <thead>\n",
              "    <tr style=\"text-align: right;\">\n",
              "      <th></th>\n",
              "      <th>pregnancies</th>\n",
              "      <th>glucose</th>\n",
              "      <th>diastolic</th>\n",
              "      <th>triceps</th>\n",
              "      <th>insulin</th>\n",
              "      <th>bmi</th>\n",
              "      <th>dpf</th>\n",
              "      <th>age</th>\n",
              "    </tr>\n",
              "  </thead>\n",
              "  <tbody>\n",
              "    <tr>\n",
              "      <th>0</th>\n",
              "      <td>7</td>\n",
              "      <td>162</td>\n",
              "      <td>76</td>\n",
              "      <td>34</td>\n",
              "      <td>0</td>\n",
              "      <td>35.6</td>\n",
              "      <td>0.656</td>\n",
              "      <td>55</td>\n",
              "    </tr>\n",
              "    <tr>\n",
              "      <th>1</th>\n",
              "      <td>1</td>\n",
              "      <td>56</td>\n",
              "      <td>60</td>\n",
              "      <td>25</td>\n",
              "      <td>0</td>\n",
              "      <td>24.0</td>\n",
              "      <td>0.300</td>\n",
              "      <td>25</td>\n",
              "    </tr>\n",
              "    <tr>\n",
              "      <th>2</th>\n",
              "      <td>10</td>\n",
              "      <td>190</td>\n",
              "      <td>65</td>\n",
              "      <td>0</td>\n",
              "      <td>0</td>\n",
              "      <td>26.0</td>\n",
              "      <td>0.752</td>\n",
              "      <td>39</td>\n",
              "    </tr>\n",
              "    <tr>\n",
              "      <th>3</th>\n",
              "      <td>1</td>\n",
              "      <td>69</td>\n",
              "      <td>60</td>\n",
              "      <td>22</td>\n",
              "      <td>92</td>\n",
              "      <td>22.0</td>\n",
              "      <td>0.160</td>\n",
              "      <td>20</td>\n",
              "    </tr>\n",
              "    <tr>\n",
              "      <th>4</th>\n",
              "      <td>3</td>\n",
              "      <td>150</td>\n",
              "      <td>50</td>\n",
              "      <td>35</td>\n",
              "      <td>169</td>\n",
              "      <td>45.0</td>\n",
              "      <td>2.900</td>\n",
              "      <td>35</td>\n",
              "    </tr>\n",
              "  </tbody>\n",
              "</table>\n",
              "</div>"
            ],
            "text/plain": [
              "   pregnancies  glucose  diastolic  triceps  insulin   bmi    dpf  age\n",
              "0            7      162         76       34        0  35.6  0.656   55\n",
              "1            1       56         60       25        0  24.0  0.300   25\n",
              "2           10      190         65        0        0  26.0  0.752   39\n",
              "3            1       69         60       22       92  22.0  0.160   20\n",
              "4            3      150         50       35      169  45.0  2.900   35"
            ]
          },
          "metadata": {
            "tags": []
          },
          "execution_count": 9
        }
      ]
    },
    {
      "cell_type": "code",
      "metadata": {
        "id": "JVhgHBog5UG4",
        "colab_type": "code",
        "colab": {
          "base_uri": "https://localhost:8080/",
          "height": 202
        },
        "outputId": "bd9c3cf7-43e7-4e7a-f3af-c62bd6813ea5"
      },
      "source": [
        "classes = model.predict_classes(predict)\n",
        "print(classes)\n",
        "for i in classes:\n",
        "  if(i== 0):\n",
        "    print(\"Not diabetic\" +\"\\n\")\n",
        "  elif (i==1):\n",
        "     print(\"Diabetic\"+ \"\\n\") "
      ],
      "execution_count": 18,
      "outputs": [
        {
          "output_type": "stream",
          "text": [
            "[0 0 1 0 1]\n",
            "Not diabetic\n",
            "\n",
            "Not diabetic\n",
            "\n",
            "Diabetic\n",
            "\n",
            "Not diabetic\n",
            "\n",
            "Diabetic\n",
            "\n"
          ],
          "name": "stdout"
        }
      ]
    }
  ]
}